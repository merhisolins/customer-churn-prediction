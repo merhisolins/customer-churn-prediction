{
 "cells": [
  {
   "cell_type": "code",
   "execution_count": 5,
   "metadata": {},
   "outputs": [
    {
     "name": "stdout",
     "output_type": "stream",
     "text": [
      "Requirement already satisfied: imbalanced-learn in c:\\users\\user\\appdata\\roaming\\python\\python313\\site-packages (0.13.0)\n",
      "Requirement already satisfied: numpy<3,>=1.24.3 in c:\\users\\user\\appdata\\roaming\\python\\python313\\site-packages (from imbalanced-learn) (2.2.2)\n",
      "Requirement already satisfied: scipy<2,>=1.10.1 in c:\\users\\user\\appdata\\roaming\\python\\python313\\site-packages (from imbalanced-learn) (1.15.1)\n",
      "Requirement already satisfied: scikit-learn<2,>=1.3.2 in c:\\users\\user\\appdata\\roaming\\python\\python313\\site-packages (from imbalanced-learn) (1.6.1)\n",
      "Requirement already satisfied: sklearn-compat<1,>=0.1 in c:\\users\\user\\appdata\\roaming\\python\\python313\\site-packages (from imbalanced-learn) (0.1.3)\n",
      "Requirement already satisfied: joblib<2,>=1.1.1 in c:\\users\\user\\appdata\\roaming\\python\\python313\\site-packages (from imbalanced-learn) (1.4.2)\n",
      "Requirement already satisfied: threadpoolctl<4,>=2.0.0 in c:\\users\\user\\appdata\\roaming\\python\\python313\\site-packages (from imbalanced-learn) (3.5.0)\n"
     ]
    },
    {
     "name": "stderr",
     "output_type": "stream",
     "text": [
      "\n",
      "[notice] A new release of pip is available: 24.3.1 -> 25.0.1\n",
      "[notice] To update, run: python.exe -m pip install --upgrade pip\n"
     ]
    }
   ],
   "source": [
    "!pip install --user imbalanced-learn"
   ]
  },
  {
   "cell_type": "code",
   "execution_count": 6,
   "metadata": {},
   "outputs": [],
   "source": [
    "import pandas as pd\n",
    "from sklearn.model_selection import train_test_split\n",
    "from sklearn.ensemble import RandomForestRegressor\n",
    "from sklearn.metrics import mean_absolute_error\n",
    "from sklearn.linear_model import LogisticRegression\n",
    "from sklearn.metrics import f1_score, roc_auc_score\n",
    "from imblearn.over_sampling import SMOTE\n",
    "from sklearn.metrics import classification_report\n",
    "from sklearn.model_selection import GridSearchCV\n",
    "from sklearn.metrics import make_scorer\n",
    "import os"
   ]
  },
  {
   "cell_type": "code",
   "execution_count": 7,
   "metadata": {},
   "outputs": [],
   "source": [
    "# Define o diretório base como a pasta do projeto\n",
    "BASE_DIR = os.getcwd()\n",
    "\n",
    "\n",
    "DATA_PATH = os.path.join(BASE_DIR, '..', 'data', 'Churn.csv')\n",
    "\n",
    "\n",
    "data = pd.read_csv(DATA_PATH )"
   ]
  },
  {
   "cell_type": "code",
   "execution_count": 8,
   "metadata": {},
   "outputs": [
    {
     "name": "stdout",
     "output_type": "stream",
     "text": [
      "   RowNumber  CustomerId   Surname  CreditScore Geography  Gender  Age  \\\n",
      "0          1    15634602  Hargrave          619    France  Female   42   \n",
      "1          2    15647311      Hill          608     Spain  Female   41   \n",
      "2          3    15619304      Onio          502    France  Female   42   \n",
      "3          4    15701354      Boni          699    France  Female   39   \n",
      "4          5    15737888  Mitchell          850     Spain  Female   43   \n",
      "\n",
      "   Tenure    Balance  NumOfProducts  HasCrCard  IsActiveMember  \\\n",
      "0     2.0       0.00              1          1               1   \n",
      "1     1.0   83807.86              1          0               1   \n",
      "2     8.0  159660.80              3          1               0   \n",
      "3     1.0       0.00              2          0               0   \n",
      "4     2.0  125510.82              1          1               1   \n",
      "\n",
      "   EstimatedSalary  Exited  \n",
      "0        101348.88       1  \n",
      "1        112542.58       0  \n",
      "2        113931.57       1  \n",
      "3         93826.63       0  \n",
      "4         79084.10       0  \n"
     ]
    }
   ],
   "source": [
    "print(data.head(5))"
   ]
  },
  {
   "cell_type": "code",
   "execution_count": 9,
   "metadata": {},
   "outputs": [
    {
     "name": "stdout",
     "output_type": "stream",
     "text": [
      "RowNumber            int64\n",
      "CustomerId           int64\n",
      "Surname             object\n",
      "CreditScore          int64\n",
      "Geography           object\n",
      "Gender              object\n",
      "Age                  int64\n",
      "Tenure             float64\n",
      "Balance            float64\n",
      "NumOfProducts        int64\n",
      "HasCrCard            int64\n",
      "IsActiveMember       int64\n",
      "EstimatedSalary    float64\n",
      "Exited               int64\n",
      "dtype: object\n"
     ]
    }
   ],
   "source": [
    "print(data.dtypes)"
   ]
  },
  {
   "cell_type": "code",
   "execution_count": 10,
   "metadata": {},
   "outputs": [
    {
     "name": "stdout",
     "output_type": "stream",
     "text": [
      "<class 'pandas.core.frame.DataFrame'>\n",
      "RangeIndex: 10000 entries, 0 to 9999\n",
      "Data columns (total 14 columns):\n",
      " #   Column           Non-Null Count  Dtype  \n",
      "---  ------           --------------  -----  \n",
      " 0   RowNumber        10000 non-null  int64  \n",
      " 1   CustomerId       10000 non-null  int64  \n",
      " 2   Surname          10000 non-null  object \n",
      " 3   CreditScore      10000 non-null  int64  \n",
      " 4   Geography        10000 non-null  object \n",
      " 5   Gender           10000 non-null  object \n",
      " 6   Age              10000 non-null  int64  \n",
      " 7   Tenure           9091 non-null   float64\n",
      " 8   Balance          10000 non-null  float64\n",
      " 9   NumOfProducts    10000 non-null  int64  \n",
      " 10  HasCrCard        10000 non-null  int64  \n",
      " 11  IsActiveMember   10000 non-null  int64  \n",
      " 12  EstimatedSalary  10000 non-null  float64\n",
      " 13  Exited           10000 non-null  int64  \n",
      "dtypes: float64(3), int64(8), object(3)\n",
      "memory usage: 1.1+ MB\n",
      "None\n"
     ]
    }
   ],
   "source": [
    "print(data.info())"
   ]
  },
  {
   "cell_type": "code",
   "execution_count": 11,
   "metadata": {},
   "outputs": [
    {
     "name": "stdout",
     "output_type": "stream",
     "text": [
      "RowNumber            0\n",
      "CustomerId           0\n",
      "Surname              0\n",
      "CreditScore          0\n",
      "Geography            0\n",
      "Gender               0\n",
      "Age                  0\n",
      "Tenure             909\n",
      "Balance              0\n",
      "NumOfProducts        0\n",
      "HasCrCard            0\n",
      "IsActiveMember       0\n",
      "EstimatedSalary      0\n",
      "Exited               0\n",
      "dtype: int64\n"
     ]
    }
   ],
   "source": [
    "# Verificar valores faltantes\n",
    "print(data.isnull().sum())"
   ]
  },
  {
   "cell_type": "code",
   "execution_count": 12,
   "metadata": {},
   "outputs": [
    {
     "name": "stdout",
     "output_type": "stream",
     "text": [
      "RowNumber          0\n",
      "CustomerId         0\n",
      "Surname            0\n",
      "CreditScore        0\n",
      "Geography          0\n",
      "Gender             0\n",
      "Age                0\n",
      "Tenure             0\n",
      "Balance            0\n",
      "NumOfProducts      0\n",
      "HasCrCard          0\n",
      "IsActiveMember     0\n",
      "EstimatedSalary    0\n",
      "Exited             0\n",
      "dtype: int64\n"
     ]
    }
   ],
   "source": [
    "# Substituindo valores faltantes por 0\n",
    "data.fillna(0, inplace=True)\n",
    "\n",
    "# Verificar novamente valores faltantes para confirmar\n",
    "print(data.isnull().sum())"
   ]
  },
  {
   "cell_type": "markdown",
   "metadata": {},
   "source": [
    "Após identicar as variaveis categóricas:\n",
    "Geography — país de residência: Representa uma categoria porque descreve grupos distintos de países onde os clientes residem.\n",
    "Gender — gênero: Também é uma variável categórica, pois classifica os clientes em grupos baseados em gênero.\n",
    "Aplicarei a pratica do One-Hot Encoding"
   ]
  },
  {
   "cell_type": "code",
   "execution_count": 13,
   "metadata": {},
   "outputs": [],
   "source": [
    "data_encoded = pd.get_dummies(data, columns=['Geography', 'Gender'])"
   ]
  },
  {
   "cell_type": "code",
   "execution_count": 14,
   "metadata": {},
   "outputs": [
    {
     "name": "stdout",
     "output_type": "stream",
     "text": [
      "Distribuição das classes (proporção):\n",
      "Exited\n",
      "0    0.7963\n",
      "1    0.2037\n",
      "Name: proportion, dtype: float64\n",
      "\n"
     ]
    }
   ],
   "source": [
    "# Preparar os dados: separar o alvo das características e aplicar One-Hot Encoding\n",
    "features = data_encoded.drop(['RowNumber', 'CustomerId', 'Surname', 'Exited'], axis=1)\n",
    "target = data_encoded['Exited']\n",
    "\n",
    "# Examinar o equilíbrio das classes\n",
    "class_distribution = target.value_counts(normalize=True)\n",
    "print(\"Distribuição das classes (proporção):\")\n",
    "print(class_distribution)\n",
    "print()"
   ]
  },
  {
   "cell_type": "markdown",
   "metadata": {},
   "source": [
    "Para uma apuração melhor do desquilíbrio, verificarei o desequilíbrio significativo no target (alvo) ao calcular a proporção da classe minoritária em relação ao total de instâncias. Ao examinar essa proporção, você pode determinar se as classes estão desequilibradas, o que é um passo crucial antes de treinar o modelo."
   ]
  },
  {
   "cell_type": "code",
   "execution_count": 15,
   "metadata": {},
   "outputs": [
    {
     "name": "stdout",
     "output_type": "stream",
     "text": [
      "Contagem de classes:\n",
      "Exited\n",
      "0    7963\n",
      "1    2037\n",
      "Name: count, dtype: int64\n",
      "\n",
      "Proporção da classe minoritária: 0.20\n",
      "As classes estão desequilibradas.\n"
     ]
    }
   ],
   "source": [
    "# Examinar o equilíbrio das classes\n",
    "class_counts = target.value_counts()\n",
    "print(\"Contagem de classes:\")\n",
    "print(class_counts)\n",
    "\n",
    "# Calcular a proporção da classe minoritária em relação ao total\n",
    "minority_class_proportion = class_counts.min() / class_counts.sum()\n",
    "print(f\"\\nProporção da classe minoritária: {minority_class_proportion:.2f}\")\n",
    "\n",
    "# Decidir se está equilibrado\n",
    "if minority_class_proportion < 0.4:\n",
    "    print(\"As classes estão desequilibradas.\")\n",
    "else:\n",
    "    print(\"As classes estão relativamente equilibradas.\")"
   ]
  },
  {
   "cell_type": "markdown",
   "metadata": {},
   "source": [
    "Levando em conta o desquilibrio seguiremos com o treinamento."
   ]
  },
  {
   "cell_type": "markdown",
   "metadata": {},
   "source": [
    "Treinamento sem levar em conta o desequilíbrio: "
   ]
  },
  {
   "cell_type": "code",
   "execution_count": 16,
   "metadata": {},
   "outputs": [
    {
     "name": "stdout",
     "output_type": "stream",
     "text": [
      "F1 Score: 0.12052117263843648\n",
      "AUC-ROC: 0.6912955056102166\n"
     ]
    }
   ],
   "source": [
    "# Dividir os dados em conjuntos de treinamento e teste após aplicar One-Hot Encoding\n",
    "features_train, features_test, target_train, target_test = train_test_split(\n",
    "    features, target, test_size=0.25, random_state=12345, stratify=target)\n",
    "\n",
    "# Treinar o modelo de Regressão Logística\n",
    "model = LogisticRegression(random_state=12345, solver='liblinear')\n",
    "model.fit(features_train, target_train)\n",
    "\n",
    "# Fazer previsões e calcular F1 e AUC-ROC no conjunto de teste\n",
    "predicted_test = model.predict(features_test)\n",
    "probabilities_test = model.predict_proba(features_test)[:, 1]\n",
    "\n",
    "f1 = f1_score(target_test, predicted_test)\n",
    "roc_auc = roc_auc_score(target_test, probabilities_test)\n",
    "\n",
    "print(f\"F1 Score: {f1}\")\n",
    "print(f\"AUC-ROC: {roc_auc}\")"
   ]
  },
  {
   "cell_type": "markdown",
   "metadata": {},
   "source": [
    "Treinamento levando em conta o desequilíbrio:"
   ]
  },
  {
   "cell_type": "code",
   "execution_count": 17,
   "metadata": {},
   "outputs": [
    {
     "name": "stdout",
     "output_type": "stream",
     "text": [
      "Desempenho após aplicar SMOTE:\n",
      "              precision    recall  f1-score   support\n",
      "\n",
      "           0       0.89      0.68      0.77      1991\n",
      "           1       0.36      0.69      0.47       509\n",
      "\n",
      "    accuracy                           0.68      2500\n",
      "   macro avg       0.62      0.68      0.62      2500\n",
      "weighted avg       0.78      0.68      0.71      2500\n",
      "\n"
     ]
    }
   ],
   "source": [
    "# Aplicar SMOTE para fazer oversampling da classe minoritária\n",
    "smote = SMOTE(random_state=12345)\n",
    "features_train_smote, target_train_smote = smote.fit_resample(features_train, target_train)\n",
    "\n",
    "# Treinar o modelo com os dados após aplicar SMOTE\n",
    "model_smote = LogisticRegression(random_state=12345, solver='liblinear')\n",
    "model_smote.fit(features_train_smote, target_train_smote)\n",
    "\n",
    "# Fazer previsões e calcular métricas\n",
    "predicted_test_smote = model_smote.predict(features_test)\n",
    "print(\"Desempenho após aplicar SMOTE:\")\n",
    "print(classification_report(target_test, predicted_test_smote))"
   ]
  },
  {
   "cell_type": "code",
   "execution_count": 18,
   "metadata": {},
   "outputs": [
    {
     "name": "stdout",
     "output_type": "stream",
     "text": [
      "Melhores hiperparâmetros: {'C': 0.1, 'class_weight': 'balanced'}\n",
      "F1 Score: 0.48846675712347354\n",
      "AUC-ROC: 0.7717587690777459\n"
     ]
    }
   ],
   "source": [
    "# Definir o modelo\n",
    "model = LogisticRegression(random_state=12345, solver='liblinear')\n",
    "\n",
    "# Definir o espaço de hiperparâmetros para a busca em grade\n",
    "param_grid = {\n",
    "    'C': [0.01, 0.1, 1, 10, 100],\n",
    "    'class_weight': [None, 'balanced']\n",
    "}\n",
    "\n",
    "# Definir o F1 score como a métrica para otimização\n",
    "f1_scorer = make_scorer(f1_score)\n",
    "\n",
    "# Inicializar GridSearchCV\n",
    "grid_search = GridSearchCV(model, param_grid, scoring=f1_scorer, cv=5, n_jobs=-1)\n",
    "\n",
    "# Executar a busca em grade\n",
    "grid_search.fit(features_train, target_train)\n",
    "\n",
    "# Recuperar o melhor modelo\n",
    "best_model = grid_search.best_estimator_\n",
    "\n",
    "# Fazer previsões e calcular F1 e AUC-ROC no conjunto de teste\n",
    "predicted_test = best_model.predict(features_test)\n",
    "probabilities_test = best_model.predict_proba(features_test)[:, 1]\n",
    "\n",
    "f1 = f1_score(target_test, predicted_test)\n",
    "roc_auc = roc_auc_score(target_test, probabilities_test)\n",
    "\n",
    "# Imprimir os melhores hiperparâmetros e as métricas\n",
    "print(f\"Melhores hiperparâmetros: {grid_search.best_params_}\")\n",
    "print(f\"F1 Score: {f1}\")\n",
    "print(f\"AUC-ROC: {roc_auc}\")"
   ]
  },
  {
   "cell_type": "markdown",
   "metadata": {},
   "source": [
    "*Conclusão:*"
   ]
  },
  {
   "cell_type": "markdown",
   "metadata": {},
   "source": [
    "Ao comparar os resultados de dois modelos diferentes após aplicar a técnica SMOTE (Synthetic Minority Over-sampling Technique), podemos tirar algumas conclusões importantes baseadas nas métricas de precisão (precision), revocação (recall), pontuação F1 (f1-score) e área sob a curva ROC (AUC-ROC):\n",
    "\n",
    "Aumento na Revocação da Classe Minoritária (1): Observamos um recall significativamente alto para a classe minoritária (1), o que indica que o modelo se tornou mais sensível à classe minoritária. Isso é um resultado direto da aplicação do SMOTE, que gera exemplos sintéticos da classe minoritária para balancear o dataset.\n",
    "\n",
    "Diminuição na Precisão da Classe Minoritária (1): A precisão para a classe minoritária é relativamente baixa, o que sugere que, embora o modelo esteja identificando corretamente muitos casos verdadeiros positivos, também está incorrendo em um número considerável de falsos positivos.\n",
    "\n",
    "F1 Score Moderado para a Classe Minoritária (1): O F1 Score, sendo a média harmônica entre precisão e revocação, reflete um equilíbrio entre essas duas métricas. No seu caso, um F1 Score de aproximadamente 0.48 indica um desempenho moderado do modelo para a classe minoritária.\n",
    "\n",
    "Acurácia Geral Reduzida (accuracy): A acurácia geral do modelo é de 68%, o que pode parecer baixo, mas é importante lembrar que, em um dataset desequilibrado, a acurácia pode não ser a melhor métrica para avaliar o desempenho do modelo.\n",
    "\n",
    "Bom AUC-ROC (0.77): Uma AUC-ROC de 0.77 sugere que o modelo tem uma boa capacidade de distinguir entre as classes. Valores de AUC-ROC mais próximos de 1.0 indicam um desempenho melhor na classificação.\n",
    "\n",
    "Escolha dos Hiperparâmetros: Os melhores hiperparâmetros encontrados ('C': 100, 'class_weight': 'balanced') indicam que uma maior penalidade de regularização (C alto) e o balanceamento de classe ajudaram a melhorar o desempenho do modelo para a classe minoritária.\n",
    "\n",
    "Ao avaliar modelos em contextos de classes desequilibradas, é crucial olhar além da acurácia e considerar o equilíbrio entre precisão e revocação, bem como o F1 Score e AUC-ROC. Nesse caso, parece que o modelo pode estar sofrendo de um número relativamente alto de falsos positivos (baixa precisão), mas está capturando a maioria dos verdadeiros positivos (alta revocação), o que pode ser desejável em certos contextos de negócios, como a detecção precoce de clientes em risco de churn."
   ]
  }
 ],
 "metadata": {
  "kernelspec": {
   "display_name": "Python 3",
   "language": "python",
   "name": "python3"
  },
  "language_info": {
   "codemirror_mode": {
    "name": "ipython",
    "version": 3
   },
   "file_extension": ".py",
   "mimetype": "text/x-python",
   "name": "python",
   "nbconvert_exporter": "python",
   "pygments_lexer": "ipython3",
   "version": "3.13.1"
  },
  "toc": {
   "base_numbering": 1,
   "nav_menu": {},
   "number_sections": true,
   "sideBar": true,
   "skip_h1_title": true,
   "title_cell": "Table of Contents",
   "title_sidebar": "Contents",
   "toc_cell": false,
   "toc_position": {},
   "toc_section_display": true,
   "toc_window_display": false
  }
 },
 "nbformat": 4,
 "nbformat_minor": 2
}
